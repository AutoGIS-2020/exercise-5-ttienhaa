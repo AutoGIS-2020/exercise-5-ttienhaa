{
 "cells": [
  {
   "cell_type": "markdown",
   "metadata": {},
   "source": [
    "# Exercise 5 Problem 1"
   ]
  },
  {
   "cell_type": "markdown",
   "metadata": {},
   "source": [
    "#### In this problem I visualize the absolute amount of seniors living in Vantaa per population grid"
   ]
  },
  {
   "cell_type": "code",
   "execution_count": 1,
   "metadata": {},
   "outputs": [],
   "source": [
    "import geopandas as gpd\n",
    "from pyproj import CRS\n",
    "import requests\n",
    "import geojson\n",
    "import matplotlib.pyplot as plt\n",
    "\n",
    "# Specify the url for web feature service\n",
    "url = 'https://kartta.hsy.fi/geoserver/wfs'\n",
    "\n",
    "# Specify parameters (read data in json format). \n",
    "# Available feature types in this particular data source: http://geo.stat.fi/geoserver/vaestoruutu/wfs?service=wfs&version=2.0.0&request=describeFeatureType\n",
    "params = dict(service='WFS', \n",
    "              version='2.0.0', \n",
    "              request='GetFeature', \n",
    "              typeName='asuminen_ja_maankaytto:Vaestotietoruudukko_2018', \n",
    "              outputFormat='json')\n",
    "\n",
    "# Fetch data from WFS using requests\n",
    "r = requests.get(url, params=params)\n",
    "\n",
    "# Create GeoDataFrame from geojson\n",
    "pop = gpd.GeoDataFrame.from_features(geojson.loads(r.content))"
   ]
  },
  {
   "cell_type": "code",
   "execution_count": 2,
   "metadata": {},
   "outputs": [
    {
     "data": {
      "text/plain": [
       "<AxesSubplot:>"
      ]
     },
     "execution_count": 2,
     "metadata": {},
     "output_type": "execute_result"
    },
    {
     "data": {
      "image/png": "[encoded data removed]",
      "text/plain": [
       "<Figure size 1080x720 with 1 Axes>"
      ]
     },
     "metadata": {
      "needs_background": "light"
     },
     "output_type": "display_data"
    }
   ],
   "source": [
    "# PLot the population data to check that it looks correct\n",
    "pop.plot(figsize=(15,10))"
   ]
  },
  {
   "cell_type": "code",
   "execution_count": 3,
   "metadata": {},
   "outputs": [],
   "source": [
    "# Add column for seniors (+70 year olds)\n",
    "pop[\"seniors\"] = pop[\"ika70_79\"] + pop[\"ika_yli80\"]"
   ]
  },
  {
   "cell_type": "code",
   "execution_count": 4,
   "metadata": {},
   "outputs": [],
   "source": [
    "# Make new dataframe with only number of seniors and geometry cells\n",
    "grid = pop[[\"geometry\", \"seniors\"]]"
   ]
  },
  {
   "cell_type": "code",
   "execution_count": 5,
   "metadata": {},
   "outputs": [
    {
     "data": {
      "text/html": [
       "<div>\n",
       "<style scoped>\n",
       "    .dataframe tbody tr th:only-of-type {\n",
       "        vertical-align: middle;\n",
       "    }\n",
       "\n",
       "    .dataframe tbody tr th {\n",
       "        vertical-align: top;\n",
       "    }\n",
       "\n",
       "    .dataframe thead th {\n",
       "        text-align: right;\n",
       "    }\n",
       "</style>\n",
       "<table border=\"1\" class=\"dataframe\">\n",
       "  <thead>\n",
       "    <tr style=\"text-align: right;\">\n",
       "      <th></th>\n",
       "      <th>geometry</th>\n",
       "      <th>seniors</th>\n",
       "    </tr>\n",
       "  </thead>\n",
       "  <tbody>\n",
       "    <tr>\n",
       "      <th>0</th>\n",
       "      <td>MULTIPOLYGON Z (((25476499.999 6674248.999 0.0...</td>\n",
       "      <td>10</td>\n",
       "    </tr>\n",
       "    <tr>\n",
       "      <th>1</th>\n",
       "      <td>MULTIPOLYGON Z (((25476749.997 6674498.998 0.0...</td>\n",
       "      <td>9</td>\n",
       "    </tr>\n",
       "    <tr>\n",
       "      <th>2</th>\n",
       "      <td>MULTIPOLYGON Z (((25476999.994 6675749.004 0.0...</td>\n",
       "      <td>12</td>\n",
       "    </tr>\n",
       "    <tr>\n",
       "      <th>3</th>\n",
       "      <td>MULTIPOLYGON Z (((25476999.994 6675499.004 0.0...</td>\n",
       "      <td>6</td>\n",
       "    </tr>\n",
       "    <tr>\n",
       "      <th>4</th>\n",
       "      <td>MULTIPOLYGON Z (((25476999.994 6675249.005 0.0...</td>\n",
       "      <td>5</td>\n",
       "    </tr>\n",
       "  </tbody>\n",
       "</table>\n",
       "</div>"
      ],
      "text/plain": [
       "                                            geometry  seniors\n",
       "0  MULTIPOLYGON Z (((25476499.999 6674248.999 0.0...       10\n",
       "1  MULTIPOLYGON Z (((25476749.997 6674498.998 0.0...        9\n",
       "2  MULTIPOLYGON Z (((25476999.994 6675749.004 0.0...       12\n",
       "3  MULTIPOLYGON Z (((25476999.994 6675499.004 0.0...        6\n",
       "4  MULTIPOLYGON Z (((25476999.994 6675249.005 0.0...        5"
      ]
     },
     "execution_count": 5,
     "metadata": {},
     "output_type": "execute_result"
    }
   ],
   "source": [
    "# Check data\n",
    "grid.head()"
   ]
  },
  {
   "cell_type": "code",
   "execution_count": 6,
   "metadata": {},
   "outputs": [],
   "source": [
    "# Import postal code area polygons for Uusimaa\n",
    "postcode_areas_fp = \"data/uusimaa_postal_code_areas.gpkg\"\n",
    "postal = gpd.read_file(postcode_areas_fp)"
   ]
  },
  {
   "cell_type": "code",
   "execution_count": 7,
   "metadata": {},
   "outputs": [
    {
     "name": "stderr",
     "output_type": "stream",
     "text": [
      "<ipython-input-7-59344e31b9d6>:11: SettingWithCopyWarning: \n",
      "A value is trying to be set on a copy of a slice from a DataFrame.\n",
      "Try using .loc[row_indexer,col_indexer] = value instead\n",
      "\n",
      "See the caveats in the documentation: https://pandas.pydata.org/pandas-docs/stable/user_guide/indexing.html#returning-a-view-versus-a-copy\n",
      "  vantaa_postal[\"Postinumero\"] = \"0\" + vantaa_postal[\"Postinnumero\"].astype(str)\n"
     ]
    }
   ],
   "source": [
    "# Import pandas\n",
    "import pandas as pd\n",
    "\n",
    "# Import CSV-file with postal code areas per city\n",
    "pks_postal = pd.read_csv(\"PKS_Postinumeroalueet_2019.csv\", sep = \";\")\n",
    "\n",
    "# Retrieve postal codes for Vantaa\n",
    "vantaa_postal = pks_postal.loc[pks_postal['Postitoimipaikka'] == \"VANTAA\"]\n",
    "\n",
    "# Modify postal code data into correct format\n",
    "vantaa_postal[\"Postinumero\"] = \"0\" + vantaa_postal[\"Postinnumero\"].astype(str)"
   ]
  },
  {
   "cell_type": "code",
   "execution_count": 8,
   "metadata": {},
   "outputs": [
    {
     "data": {
      "text/plain": [
       "['01200',\n",
       " '01230',\n",
       " '01260',\n",
       " '01280',\n",
       " '01300',\n",
       " '01340',\n",
       " '01350',\n",
       " '01360',\n",
       " '01370',\n",
       " '01380',\n",
       " '01390',\n",
       " '01400',\n",
       " '01420',\n",
       " '01450',\n",
       " '01480',\n",
       " '01490',\n",
       " '01510',\n",
       " '01520',\n",
       " '01530',\n",
       " '01600',\n",
       " '01610',\n",
       " '01620',\n",
       " '01630',\n",
       " '01640',\n",
       " '01650',\n",
       " '01660',\n",
       " '01670',\n",
       " '01680',\n",
       " '01690',\n",
       " '01700',\n",
       " '01710',\n",
       " '01720',\n",
       " '01730',\n",
       " '01740',\n",
       " '01750',\n",
       " '01760',\n",
       " '01770']"
      ]
     },
     "execution_count": 8,
     "metadata": {},
     "output_type": "execute_result"
    }
   ],
   "source": [
    "# Make list out of Vantaa postal codes\n",
    "vantaa_postal_list = list(vantaa_postal[\"Postinumero\"])\n",
    "\n",
    "# Check list\n",
    "vantaa_postal_list"
   ]
  },
  {
   "cell_type": "code",
   "execution_count": 9,
   "metadata": {},
   "outputs": [],
   "source": [
    "# Modify postal code dataframe to only include postal codes in Vantaa\n",
    "postal = postal.loc[postal['posti_alue'].isin(vantaa_postal_list)]"
   ]
  },
  {
   "cell_type": "code",
   "execution_count": 10,
   "metadata": {},
   "outputs": [],
   "source": [
    "# Add CRS to population grid\n",
    "grid.crs = CRS.from_epsg(3879).to_wkt()"
   ]
  },
  {
   "cell_type": "code",
   "execution_count": 11,
   "metadata": {},
   "outputs": [],
   "source": [
    "# Reproject to EPSG 3857\n",
    "postal = postal.to_crs(epsg=3857)\n",
    "grid = grid.to_crs(epsg=3857)"
   ]
  },
  {
   "cell_type": "code",
   "execution_count": 12,
   "metadata": {},
   "outputs": [
    {
     "data": {
      "text/html": [
       "<div>\n",
       "<style scoped>\n",
       "    .dataframe tbody tr th:only-of-type {\n",
       "        vertical-align: middle;\n",
       "    }\n",
       "\n",
       "    .dataframe tbody tr th {\n",
       "        vertical-align: top;\n",
       "    }\n",
       "\n",
       "    .dataframe thead th {\n",
       "        text-align: right;\n",
       "    }\n",
       "</style>\n",
       "<table border=\"1\" class=\"dataframe\">\n",
       "  <thead>\n",
       "    <tr style=\"text-align: right;\">\n",
       "      <th></th>\n",
       "      <th>seniors</th>\n",
       "      <th>posti_alue</th>\n",
       "      <th>he_vakiy</th>\n",
       "      <th>geometry</th>\n",
       "    </tr>\n",
       "  </thead>\n",
       "  <tbody>\n",
       "    <tr>\n",
       "      <th>0</th>\n",
       "      <td>10</td>\n",
       "      <td>01630</td>\n",
       "      <td>2055.0</td>\n",
       "      <td>POLYGON Z ((2757235.453 8458227.465 0.000, 275...</td>\n",
       "    </tr>\n",
       "    <tr>\n",
       "      <th>1</th>\n",
       "      <td>7</td>\n",
       "      <td>01630</td>\n",
       "      <td>2055.0</td>\n",
       "      <td>POLYGON Z ((2758853.428 8459240.165 0.000, 275...</td>\n",
       "    </tr>\n",
       "    <tr>\n",
       "      <th>2</th>\n",
       "      <td>7</td>\n",
       "      <td>01630</td>\n",
       "      <td>2055.0</td>\n",
       "      <td>POLYGON Z ((2759354.590 8459745.436 0.000, 275...</td>\n",
       "    </tr>\n",
       "    <tr>\n",
       "      <th>3</th>\n",
       "      <td>21</td>\n",
       "      <td>01630</td>\n",
       "      <td>2055.0</td>\n",
       "      <td>POLYGON Z ((2759356.207 8459241.803 0.000, 275...</td>\n",
       "    </tr>\n",
       "    <tr>\n",
       "      <th>4</th>\n",
       "      <td>19</td>\n",
       "      <td>01630</td>\n",
       "      <td>2055.0</td>\n",
       "      <td>POLYGON Z ((2759857.404 8459747.039 0.000, 275...</td>\n",
       "    </tr>\n",
       "  </tbody>\n",
       "</table>\n",
       "</div>"
      ],
      "text/plain": [
       "   seniors posti_alue  he_vakiy  \\\n",
       "0       10      01630    2055.0   \n",
       "1        7      01630    2055.0   \n",
       "2        7      01630    2055.0   \n",
       "3       21      01630    2055.0   \n",
       "4       19      01630    2055.0   \n",
       "\n",
       "                                            geometry  \n",
       "0  POLYGON Z ((2757235.453 8458227.465 0.000, 275...  \n",
       "1  POLYGON Z ((2758853.428 8459240.165 0.000, 275...  \n",
       "2  POLYGON Z ((2759354.590 8459745.436 0.000, 275...  \n",
       "3  POLYGON Z ((2759356.207 8459241.803 0.000, 275...  \n",
       "4  POLYGON Z ((2759857.404 8459747.039 0.000, 275...  "
      ]
     },
     "execution_count": 12,
     "metadata": {},
     "output_type": "execute_result"
    }
   ],
   "source": [
    "# Create new dataframe that includes only population grids from Vantaa\n",
    "intersection = gpd.overlay(grid, postal, how='intersection')\n",
    "intersection.head()"
   ]
  },
  {
   "cell_type": "code",
   "execution_count": 13,
   "metadata": {},
   "outputs": [],
   "source": [
    "# Import contextily\n",
    "import contextily as ctx"
   ]
  },
  {
   "cell_type": "code",
   "execution_count": null,
   "metadata": {},
   "outputs": [],
   "source": [
    "# Plot data\n",
    "fig, ax = plt.subplots(figsize=(15,10))\n",
    "\n",
    "# Add Vantaa postal areas to plot as transparent areas\n",
    "postal.plot(ax=ax, facecolor='blue', alpha=0.2)\n",
    "\n",
    "# Add Vantaa senior population grids to plot\n",
    "intersection.plot(ax=ax,\n",
    "                  column=\"seniors\",\n",
    "                  cmap='YlOrRd',\n",
    "                  scheme=\"quantiles\",\n",
    "                  k=7,\n",
    "                  legend=True\n",
    "                 )\n",
    "\n",
    "# Re-position the legend and set a title\n",
    "#ax.get_legend().set_bbox_to_anchor((1.2,1))\n",
    "ax.get_legend().set_title(\"Senior population per grid\")\n",
    "\n",
    "# Add Vantaa postal code edges to plot\n",
    "postal.plot(ax=ax, facecolor='none', edgecolor='darkblue')\n",
    "\n",
    "ax.title.set_text('Distribution of seniors over 70 years living in Vantaa postal code areas')\n",
    "\n",
    "# Add basemap \n",
    "ctx.add_basemap(ax, source=ctx.providers.Esri.NatGeoWorldMap)\n",
    "\n",
    "# Remove the empty white-space around the axes\n",
    "plt.tight_layout()\n",
    "\n",
    "# Save the figure as png file with resolution of 300 dpi\n",
    "outfp = r\"docs/vantaa_seniors.png\"\n",
    "plt.savefig(outfp, dpi=300)"
   ]
  },
  {
   "cell_type": "code",
   "execution_count": null,
   "metadata": {},
   "outputs": [],
   "source": []
  }
 ],
 "metadata": {
  "kernelspec": {
   "display_name": "Python 3",
   "language": "python",
   "name": "python3"
  },
  "language_info": {
   "codemirror_mode": {
    "name": "ipython",
    "version": 3
   },
   "file_extension": ".py",
   "mimetype": "text/x-python",
   "name": "python",
   "nbconvert_exporter": "python",
   "pygments_lexer": "ipython3",
   "version": "3.8.6"
  }
 },
 "nbformat": 4,
 "nbformat_minor": 4
}
